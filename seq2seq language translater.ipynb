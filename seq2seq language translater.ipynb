{
 "cells": [
  {
   "cell_type": "markdown",
   "id": "c60189ee",
   "metadata": {},
   "source": [
    "<!-- LANGUAGE TRANSLATER USING SEQ2SEQ ARCHITECHTURE -->\n",
    "NAME   : PRAVEEN SUNKARA\n",
    "REGNO : 21BCE9477\n",
    "\n",
    "The below code is the DEEP LEARNING PROJEC on Language Translater using\n",
    "Seq2Seqa(Sequence-to-Sequence) architechture where here LSTM(Long Short Term Memory) model is used as a buiding block of RNN, which as the capabilities to solve sequence based problems and learning long term dependencies.\n",
    "\n"
   ]
  },
  {
   "cell_type": "code",
   "execution_count": 1,
   "id": "71133674",
   "metadata": {},
   "outputs": [
    {
     "name": "stdout",
     "output_type": "stream",
     "text": [
      "Requirement already satisfied: pandas in c:\\users\\prave\\anaconda3\\envs\\tensorflow\\lib\\site-packages (2.0.3)\n",
      "Requirement already satisfied: python-dateutil>=2.8.2 in c:\\users\\prave\\anaconda3\\envs\\tensorflow\\lib\\site-packages (from pandas) (2.8.2)\n",
      "Requirement already satisfied: pytz>=2020.1 in c:\\users\\prave\\anaconda3\\envs\\tensorflow\\lib\\site-packages (from pandas) (2023.3)\n",
      "Requirement already satisfied: tzdata>=2022.1 in c:\\users\\prave\\anaconda3\\envs\\tensorflow\\lib\\site-packages (from pandas) (2023.3)\n",
      "Requirement already satisfied: numpy>=1.20.3 in c:\\users\\prave\\anaconda3\\envs\\tensorflow\\lib\\site-packages (from pandas) (1.25.0)\n",
      "Requirement already satisfied: six>=1.5 in c:\\users\\prave\\anaconda3\\envs\\tensorflow\\lib\\site-packages (from python-dateutil>=2.8.2->pandas) (1.16.0)\n",
      "Requirement already satisfied: matplotlib in c:\\users\\prave\\anaconda3\\envs\\tensorflow\\lib\\site-packages (3.7.2)\n",
      "Requirement already satisfied: contourpy>=1.0.1 in c:\\users\\prave\\anaconda3\\envs\\tensorflow\\lib\\site-packages (from matplotlib) (1.1.0)\n",
      "Requirement already satisfied: cycler>=0.10 in c:\\users\\prave\\anaconda3\\envs\\tensorflow\\lib\\site-packages (from matplotlib) (0.11.0)\n",
      "Requirement already satisfied: fonttools>=4.22.0 in c:\\users\\prave\\anaconda3\\envs\\tensorflow\\lib\\site-packages (from matplotlib) (4.41.0)\n",
      "Requirement already satisfied: kiwisolver>=1.0.1 in c:\\users\\prave\\anaconda3\\envs\\tensorflow\\lib\\site-packages (from matplotlib) (1.4.4)\n",
      "Requirement already satisfied: numpy>=1.20 in c:\\users\\prave\\anaconda3\\envs\\tensorflow\\lib\\site-packages (from matplotlib) (1.25.0)\n",
      "Requirement already satisfied: packaging>=20.0 in c:\\users\\prave\\anaconda3\\envs\\tensorflow\\lib\\site-packages (from matplotlib) (23.0)\n",
      "Requirement already satisfied: pillow>=6.2.0 in c:\\users\\prave\\anaconda3\\envs\\tensorflow\\lib\\site-packages (from matplotlib) (10.0.0)\n",
      "Requirement already satisfied: pyparsing<3.1,>=2.3.1 in c:\\users\\prave\\anaconda3\\envs\\tensorflow\\lib\\site-packages (from matplotlib) (3.0.9)\n",
      "Requirement already satisfied: python-dateutil>=2.7 in c:\\users\\prave\\anaconda3\\envs\\tensorflow\\lib\\site-packages (from matplotlib) (2.8.2)\n",
      "Requirement already satisfied: importlib-resources>=3.2.0 in c:\\users\\prave\\anaconda3\\envs\\tensorflow\\lib\\site-packages (from matplotlib) (6.0.0)\n",
      "Requirement already satisfied: zipp>=3.1.0 in c:\\users\\prave\\anaconda3\\envs\\tensorflow\\lib\\site-packages (from importlib-resources>=3.2.0->matplotlib) (3.11.0)\n",
      "Requirement already satisfied: six>=1.5 in c:\\users\\prave\\anaconda3\\envs\\tensorflow\\lib\\site-packages (from python-dateutil>=2.7->matplotlib) (1.16.0)\n",
      "Requirement already satisfied: tensorflow in c:\\users\\prave\\anaconda3\\envs\\tensorflow\\lib\\site-packages (2.10.0)\n",
      "Requirement already satisfied: absl-py>=1.0.0 in c:\\users\\prave\\anaconda3\\envs\\tensorflow\\lib\\site-packages (from tensorflow) (1.4.0)\n",
      "Requirement already satisfied: astunparse>=1.6.0 in c:\\users\\prave\\anaconda3\\envs\\tensorflow\\lib\\site-packages (from tensorflow) (1.6.3)\n",
      "Requirement already satisfied: flatbuffers>=2.0 in c:\\users\\prave\\anaconda3\\envs\\tensorflow\\lib\\site-packages (from tensorflow) (2.0)\n",
      "Requirement already satisfied: gast<=0.4.0,>=0.2.1 in c:\\users\\prave\\anaconda3\\envs\\tensorflow\\lib\\site-packages (from tensorflow) (0.4.0)\n",
      "Requirement already satisfied: google-pasta>=0.1.1 in c:\\users\\prave\\anaconda3\\envs\\tensorflow\\lib\\site-packages (from tensorflow) (0.2.0)\n",
      "Requirement already satisfied: h5py>=2.9.0 in c:\\users\\prave\\anaconda3\\envs\\tensorflow\\lib\\site-packages (from tensorflow) (3.7.0)\n",
      "Requirement already satisfied: keras-preprocessing>=1.1.1 in c:\\users\\prave\\anaconda3\\envs\\tensorflow\\lib\\site-packages (from tensorflow) (1.1.2)\n",
      "Requirement already satisfied: libclang>=13.0.0 in c:\\users\\prave\\anaconda3\\envs\\tensorflow\\lib\\site-packages (from tensorflow) (16.0.6)\n",
      "Requirement already satisfied: numpy>=1.20 in c:\\users\\prave\\anaconda3\\envs\\tensorflow\\lib\\site-packages (from tensorflow) (1.25.0)\n",
      "Requirement already satisfied: opt-einsum>=2.3.2 in c:\\users\\prave\\anaconda3\\envs\\tensorflow\\lib\\site-packages (from tensorflow) (3.3.0)\n",
      "Requirement already satisfied: packaging in c:\\users\\prave\\anaconda3\\envs\\tensorflow\\lib\\site-packages (from tensorflow) (23.0)\n",
      "Requirement already satisfied: protobuf<3.20,>=3.9.2 in c:\\users\\prave\\anaconda3\\envs\\tensorflow\\lib\\site-packages (from tensorflow) (3.19.6)\n",
      "Requirement already satisfied: setuptools in c:\\users\\prave\\anaconda3\\envs\\tensorflow\\lib\\site-packages (from tensorflow) (67.8.0)\n",
      "Requirement already satisfied: six>=1.12.0 in c:\\users\\prave\\anaconda3\\envs\\tensorflow\\lib\\site-packages (from tensorflow) (1.16.0)\n",
      "Requirement already satisfied: termcolor>=1.1.0 in c:\\users\\prave\\anaconda3\\envs\\tensorflow\\lib\\site-packages (from tensorflow) (2.1.0)\n",
      "Requirement already satisfied: typing-extensions>=3.6.6 in c:\\users\\prave\\anaconda3\\envs\\tensorflow\\lib\\site-packages (from tensorflow) (4.6.3)\n",
      "Requirement already satisfied: wrapt>=1.11.0 in c:\\users\\prave\\anaconda3\\envs\\tensorflow\\lib\\site-packages (from tensorflow) (1.14.1)\n",
      "Requirement already satisfied: tensorflow-io-gcs-filesystem>=0.23.1 in c:\\users\\prave\\anaconda3\\envs\\tensorflow\\lib\\site-packages (from tensorflow) (0.31.0)\n",
      "Requirement already satisfied: grpcio<2.0,>=1.24.3 in c:\\users\\prave\\anaconda3\\envs\\tensorflow\\lib\\site-packages (from tensorflow) (1.48.2)\n",
      "Requirement already satisfied: tensorboard<2.11,>=2.10 in c:\\users\\prave\\anaconda3\\envs\\tensorflow\\lib\\site-packages (from tensorflow) (2.10.0)\n",
      "Requirement already satisfied: tensorflow-estimator<2.11,>=2.10.0 in c:\\users\\prave\\anaconda3\\envs\\tensorflow\\lib\\site-packages (from tensorflow) (2.10.0)\n",
      "Requirement already satisfied: keras<2.11,>=2.10.0 in c:\\users\\prave\\anaconda3\\envs\\tensorflow\\lib\\site-packages (from tensorflow) (2.10.0)\n",
      "Requirement already satisfied: wheel<1.0,>=0.23.0 in c:\\users\\prave\\anaconda3\\envs\\tensorflow\\lib\\site-packages (from astunparse>=1.6.0->tensorflow) (0.38.4)\n",
      "Requirement already satisfied: google-auth<3,>=1.6.3 in c:\\users\\prave\\anaconda3\\envs\\tensorflow\\lib\\site-packages (from tensorboard<2.11,>=2.10->tensorflow) (2.6.0)\n",
      "Requirement already satisfied: google-auth-oauthlib<0.5,>=0.4.1 in c:\\users\\prave\\anaconda3\\envs\\tensorflow\\lib\\site-packages (from tensorboard<2.11,>=2.10->tensorflow) (0.4.4)\n",
      "Requirement already satisfied: markdown>=2.6.8 in c:\\users\\prave\\anaconda3\\envs\\tensorflow\\lib\\site-packages (from tensorboard<2.11,>=2.10->tensorflow) (3.4.1)\n",
      "Requirement already satisfied: requests<3,>=2.21.0 in c:\\users\\prave\\anaconda3\\envs\\tensorflow\\lib\\site-packages (from tensorboard<2.11,>=2.10->tensorflow) (2.29.0)\n",
      "Requirement already satisfied: tensorboard-data-server<0.7.0,>=0.6.0 in c:\\users\\prave\\anaconda3\\envs\\tensorflow\\lib\\site-packages (from tensorboard<2.11,>=2.10->tensorflow) (0.6.1)\n",
      "Requirement already satisfied: tensorboard-plugin-wit>=1.6.0 in c:\\users\\prave\\anaconda3\\envs\\tensorflow\\lib\\site-packages (from tensorboard<2.11,>=2.10->tensorflow) (1.8.1)\n",
      "Requirement already satisfied: werkzeug>=1.0.1 in c:\\users\\prave\\anaconda3\\envs\\tensorflow\\lib\\site-packages (from tensorboard<2.11,>=2.10->tensorflow) (2.2.3)\n",
      "Requirement already satisfied: cachetools<6.0,>=2.0.0 in c:\\users\\prave\\anaconda3\\envs\\tensorflow\\lib\\site-packages (from google-auth<3,>=1.6.3->tensorboard<2.11,>=2.10->tensorflow) (4.2.2)\n",
      "Requirement already satisfied: pyasn1-modules>=0.2.1 in c:\\users\\prave\\anaconda3\\envs\\tensorflow\\lib\\site-packages (from google-auth<3,>=1.6.3->tensorboard<2.11,>=2.10->tensorflow) (0.2.8)\n",
      "Requirement already satisfied: rsa<5,>=3.1.4 in c:\\users\\prave\\anaconda3\\envs\\tensorflow\\lib\\site-packages (from google-auth<3,>=1.6.3->tensorboard<2.11,>=2.10->tensorflow) (4.7.2)\n",
      "Requirement already satisfied: requests-oauthlib>=0.7.0 in c:\\users\\prave\\anaconda3\\envs\\tensorflow\\lib\\site-packages (from google-auth-oauthlib<0.5,>=0.4.1->tensorboard<2.11,>=2.10->tensorflow) (1.3.0)\n",
      "Requirement already satisfied: importlib-metadata>=4.4 in c:\\users\\prave\\anaconda3\\envs\\tensorflow\\lib\\site-packages (from markdown>=2.6.8->tensorboard<2.11,>=2.10->tensorflow) (6.0.0)\n",
      "Requirement already satisfied: charset-normalizer<4,>=2 in c:\\users\\prave\\anaconda3\\envs\\tensorflow\\lib\\site-packages (from requests<3,>=2.21.0->tensorboard<2.11,>=2.10->tensorflow) (2.0.4)\n",
      "Requirement already satisfied: idna<4,>=2.5 in c:\\users\\prave\\anaconda3\\envs\\tensorflow\\lib\\site-packages (from requests<3,>=2.21.0->tensorboard<2.11,>=2.10->tensorflow) (3.4)\n",
      "Requirement already satisfied: urllib3<1.27,>=1.21.1 in c:\\users\\prave\\anaconda3\\envs\\tensorflow\\lib\\site-packages (from requests<3,>=2.21.0->tensorboard<2.11,>=2.10->tensorflow) (1.26.16)\n",
      "Requirement already satisfied: certifi>=2017.4.17 in c:\\users\\prave\\anaconda3\\envs\\tensorflow\\lib\\site-packages (from requests<3,>=2.21.0->tensorboard<2.11,>=2.10->tensorflow) (2023.5.7)\n",
      "Requirement already satisfied: MarkupSafe>=2.1.1 in c:\\users\\prave\\anaconda3\\envs\\tensorflow\\lib\\site-packages (from werkzeug>=1.0.1->tensorboard<2.11,>=2.10->tensorflow) (2.1.1)\n",
      "Requirement already satisfied: zipp>=0.5 in c:\\users\\prave\\anaconda3\\envs\\tensorflow\\lib\\site-packages (from importlib-metadata>=4.4->markdown>=2.6.8->tensorboard<2.11,>=2.10->tensorflow) (3.11.0)\n",
      "Requirement already satisfied: pyasn1<0.5.0,>=0.4.6 in c:\\users\\prave\\anaconda3\\envs\\tensorflow\\lib\\site-packages (from pyasn1-modules>=0.2.1->google-auth<3,>=1.6.3->tensorboard<2.11,>=2.10->tensorflow) (0.4.8)\n",
      "Requirement already satisfied: oauthlib>=3.0.0 in c:\\users\\prave\\anaconda3\\envs\\tensorflow\\lib\\site-packages (from requests-oauthlib>=0.7.0->google-auth-oauthlib<0.5,>=0.4.1->tensorboard<2.11,>=2.10->tensorflow) (3.2.2)\n"
     ]
    },
    {
     "name": "stdout",
     "output_type": "stream",
     "text": [
      "Requirement already satisfied: Keras-Preprocessing in c:\\users\\prave\\anaconda3\\envs\\tensorflow\\lib\\site-packages (1.1.2)\n",
      "Requirement already satisfied: numpy>=1.9.1 in c:\\users\\prave\\anaconda3\\envs\\tensorflow\\lib\\site-packages (from Keras-Preprocessing) (1.25.0)\n",
      "Requirement already satisfied: six>=1.9.0 in c:\\users\\prave\\anaconda3\\envs\\tensorflow\\lib\\site-packages (from Keras-Preprocessing) (1.16.0)\n"
     ]
    }
   ],
   "source": [
    "!pip install pandas\n",
    "!pip install matplotlib\n",
    "!pip install tensorflow\n",
    "from tensorflow import keras\n",
    "!pip install Keras-Preprocessing\n",
    "import numpy\n",
    "from numpy import array\n"
   ]
  },
  {
   "cell_type": "code",
   "execution_count": 2,
   "id": "715f7a46",
   "metadata": {},
   "outputs": [],
   "source": [
    "import string\n",
    "import re\n",
    "from numpy import array, argmax, random, take\n",
    "import pandas as pd\n",
    "from keras.models import Sequential\n",
    "from keras.layers import Dense, LSTM, Embedding, RepeatVector\n",
    "from keras.preprocessing.text import Tokenizer\n",
    "from keras.callbacks import ModelCheckpoint\n",
    "from keras_preprocessing.sequence import pad_sequences\n",
    "from keras.models import load_model\n",
    "from keras import optimizers\n",
    "\n",
    "import matplotlib.pyplot as plt\n",
    "%matplotlib inline\n",
    "pd.set_option('display.max_colwidth',200)"
   ]
  },
  {
   "cell_type": "code",
   "execution_count": 3,
   "id": "296b54ab",
   "metadata": {},
   "outputs": [],
   "source": [
    "data_path = \"C:/Users/prave/OneDrive/Desktop/fastrack(3-1)/deepLearnign - C1/projects/fra-eng/fra.txt\"\n",
    "with open(data_path,'r', encoding='utf-8') as f:\n",
    "  lines = f.read()\n",
    "\n",
    "# lines"
   ]
  },
  {
   "cell_type": "code",
   "execution_count": 4,
   "id": "b489ebb1",
   "metadata": {},
   "outputs": [],
   "source": [
    "# split a text into sentences\n",
    "def to_lines(text):\n",
    "  sents = text.strip().split('\\n')\n",
    "  sents = [i.split('\\t') for i in sents]\n",
    "  return sents"
   ]
  },
  {
   "cell_type": "code",
   "execution_count": 5,
   "id": "232a5560",
   "metadata": {},
   "outputs": [
    {
     "data": {
      "text/plain": [
       "[['Go.',\n",
       "  'Va !',\n",
       "  'CC-BY 2.0 (France) Attribution: tatoeba.org #2877272 (CM) & #1158250 (Wittydev)'],\n",
       " ['Go.',\n",
       "  'Marche.',\n",
       "  'CC-BY 2.0 (France) Attribution: tatoeba.org #2877272 (CM) & #8090732 (Micsmithel)'],\n",
       " ['Go.',\n",
       "  'En route !',\n",
       "  'CC-BY 2.0 (France) Attribution: tatoeba.org #2877272 (CM) & #8267435 (felix63)'],\n",
       " ['Go.',\n",
       "  'Bouge !',\n",
       "  'CC-BY 2.0 (France) Attribution: tatoeba.org #2877272 (CM) & #9022935 (Micsmithel)'],\n",
       " ['Hi.',\n",
       "  'Salut !',\n",
       "  'CC-BY 2.0 (France) Attribution: tatoeba.org #538123 (CM) & #509819 (Aiji)']]"
      ]
     },
     "execution_count": 5,
     "metadata": {},
     "output_type": "execute_result"
    }
   ],
   "source": [
    "fra_eng = to_lines(lines)\n",
    "fra_eng[:5]\n"
   ]
  },
  {
   "cell_type": "code",
   "execution_count": 6,
   "id": "f0b99016",
   "metadata": {},
   "outputs": [
    {
     "data": {
      "text/plain": [
       "array([['Go.', 'Va !',\n",
       "        'CC-BY 2.0 (France) Attribution: tatoeba.org #2877272 (CM) & #1158250 (Wittydev)'],\n",
       "       ['Go.', 'Marche.',\n",
       "        'CC-BY 2.0 (France) Attribution: tatoeba.org #2877272 (CM) & #8090732 (Micsmithel)'],\n",
       "       ['Go.', 'En route !',\n",
       "        'CC-BY 2.0 (France) Attribution: tatoeba.org #2877272 (CM) & #8267435 (felix63)'],\n",
       "       ['Go.', 'Bouge !',\n",
       "        'CC-BY 2.0 (France) Attribution: tatoeba.org #2877272 (CM) & #9022935 (Micsmithel)'],\n",
       "       ['Hi.', 'Salut !',\n",
       "        'CC-BY 2.0 (France) Attribution: tatoeba.org #538123 (CM) & #509819 (Aiji)']],\n",
       "      dtype='<U349')"
      ]
     },
     "execution_count": 6,
     "metadata": {},
     "output_type": "execute_result"
    }
   ],
   "source": [
    "fra_eng = array(fra_eng)\n",
    "fra_eng[:5]"
   ]
  },
  {
   "cell_type": "code",
   "execution_count": 7,
   "id": "f364647d",
   "metadata": {},
   "outputs": [
    {
     "data": {
      "text/plain": [
       "(217975, 3)"
      ]
     },
     "execution_count": 7,
     "metadata": {},
     "output_type": "execute_result"
    }
   ],
   "source": [
    "# to know the shape of the dataset\n",
    "fra_eng.shape"
   ]
  },
  {
   "cell_type": "code",
   "execution_count": 13,
   "id": "c2977b1c",
   "metadata": {},
   "outputs": [],
   "source": [
    "# here were considering 900000 examples only\n",
    "\n",
    "fra_eng = fra_eng[:100000,:]\n"
   ]
  },
  {
   "cell_type": "code",
   "execution_count": 14,
   "id": "a0929c54",
   "metadata": {},
   "outputs": [
    {
     "data": {
      "text/plain": [
       "array([['go', 'va '],\n",
       "       ['go', 'marche'],\n",
       "       ['go', 'en route '],\n",
       "       ['go', 'bouge '],\n",
       "       ['hi', 'salut ']], dtype='<U349')"
      ]
     },
     "execution_count": 14,
     "metadata": {},
     "output_type": "execute_result"
    }
   ],
   "source": [
    "fra_eng = fra_eng[:,[0,1]]\n",
    "fra_eng[:5]"
   ]
  },
  {
   "cell_type": "code",
   "execution_count": 15,
   "id": "bf2a05cf",
   "metadata": {},
   "outputs": [
    {
     "data": {
      "text/plain": [
       "array([['go', 'va '],\n",
       "       ['go', 'marche'],\n",
       "       ['go', 'en route '],\n",
       "       ['go', 'bouge '],\n",
       "       ['hi', 'salut ']], dtype='<U349')"
      ]
     },
     "execution_count": 15,
     "metadata": {},
     "output_type": "execute_result"
    }
   ],
   "source": [
    "#clean the the data by removing special characters and punctuations\n",
    "#remove punctuation\n",
    "\n",
    "fra_eng[:,0] = [s.translate(str.maketrans('','',string.punctuation)) for s in fra_eng[:,0]]\n",
    "fra_eng[:,1] = [s.translate(str.maketrans('','',string.punctuation)) for s in fra_eng[:,1]]\n",
    "fra_eng[:5]"
   ]
  },
  {
   "cell_type": "code",
   "execution_count": 16,
   "id": "5312b9e8",
   "metadata": {},
   "outputs": [
    {
     "data": {
      "text/plain": [
       "array([['go', 'va '],\n",
       "       ['go', 'marche'],\n",
       "       ['go', 'en route '],\n",
       "       ...,\n",
       "       ['its really not that hard', 'ce nest vraiment pas si difficile'],\n",
       "       ['its really not that much', 'ce nest vraiment pas beaucoup'],\n",
       "       ['its really very annoying', 'cest vraiment très ennuyeux']],\n",
       "      dtype='<U349')"
      ]
     },
     "execution_count": 16,
     "metadata": {},
     "output_type": "execute_result"
    }
   ],
   "source": [
    "#conver text to lowercase\n",
    "\n",
    "for i in range(len(fra_eng)):\n",
    "  fra_eng[i,0] = fra_eng[i,0].lower()\n",
    "  fra_eng[i,1] = fra_eng[i,1].lower()\n",
    "fra_eng"
   ]
  },
  {
   "cell_type": "markdown",
   "id": "b012b810",
   "metadata": {},
   "source": [
    "Text to Sequence Conversion (word to index mapping)\n",
    "\n",
    "1. convert senteces into numbers\n",
    "2. every sentence should be of same length\n",
    "3. then convert the translated sequence to text again.\n"
   ]
  },
  {
   "cell_type": "code",
   "execution_count": 18,
   "id": "49b236af",
   "metadata": {},
   "outputs": [
    {
     "name": "stdout",
     "output_type": "stream",
     "text": [
      "English vocabulary size: 8342\n"
     ]
    }
   ],
   "source": [
    "#funtion to build a tekeniser\n",
    "\n",
    "def tokenization(lines):\n",
    "  tokenizer = Tokenizer()\n",
    "  tokenizer.fit_on_texts(lines)\n",
    "  return tokenizer\n",
    "\n",
    "#prepare english tokenizer\n",
    "eng_tokenizer = tokenization(fra_eng[:,0])\n",
    "eng_vocab_size = len(eng_tokenizer.word_index)+1\n",
    "\n",
    "eng_length = 8\n",
    "print('English vocabulary size: %d' % eng_vocab_size)\n"
   ]
  },
  {
   "cell_type": "code",
   "execution_count": 20,
   "id": "28275946",
   "metadata": {},
   "outputs": [
    {
     "name": "stdout",
     "output_type": "stream",
     "text": [
      "french vocabulary size: 19665\n"
     ]
    }
   ],
   "source": [
    "#prapare French tokenizer\n",
    "\n",
    "fra_tokenizer = tokenization(fra_eng[:,1])\n",
    "fra_vocab_size = len(fra_tokenizer.word_index) + 1\n",
    "\n",
    "fra_length = 8\n",
    "print('french vocabulary size: %d' % fra_vocab_size)"
   ]
  },
  {
   "cell_type": "code",
   "execution_count": 21,
   "id": "6d0830ab",
   "metadata": {},
   "outputs": [],
   "source": [
    "#encode and pad sequences, padding to maximum sentence length as mentioned above.\n",
    "\n",
    "def encode_sequences(tokenizer, length, lines):\n",
    "  #integer encode sequence\n",
    "  seq = tokenizer.texts_to_sequences(lines)\n",
    "  #pad sequence with 0 values\n",
    "  seq = pad_sequences(seq, maxlen=length, padding= 'post')\n",
    "  return seq"
   ]
  },
  {
   "cell_type": "code",
   "execution_count": 22,
   "id": "9fafbb4a",
   "metadata": {},
   "outputs": [
    {
     "name": "stdout",
     "output_type": "stream",
     "text": [
      "Requirement already satisfied: scikit-learn in c:\\users\\prave\\anaconda3\\envs\\tensorflow\\lib\\site-packages (1.3.0)\n",
      "Requirement already satisfied: numpy>=1.17.3 in c:\\users\\prave\\anaconda3\\envs\\tensorflow\\lib\\site-packages (from scikit-learn) (1.25.0)\n",
      "Requirement already satisfied: scipy>=1.5.0 in c:\\users\\prave\\anaconda3\\envs\\tensorflow\\lib\\site-packages (from scikit-learn) (1.10.1)\n",
      "Requirement already satisfied: joblib>=1.1.1 in c:\\users\\prave\\anaconda3\\envs\\tensorflow\\lib\\site-packages (from scikit-learn) (1.3.1)\n",
      "Requirement already satisfied: threadpoolctl>=2.0.0 in c:\\users\\prave\\anaconda3\\envs\\tensorflow\\lib\\site-packages (from scikit-learn) (3.2.0)\n"
     ]
    }
   ],
   "source": [
    "#installing the scilearn library to analysis the lines of the dataset\n",
    "\n",
    "!pip install scikit-learn"
   ]
  },
  {
   "cell_type": "code",
   "execution_count": 23,
   "id": "15f32dc3",
   "metadata": {},
   "outputs": [],
   "source": [
    "from sklearn.model_selection import train_test_split\n",
    "\n",
    "#split data into train and \n",
    "\n",
    "train,test = train_test_split(fra_eng,test_size=0.2, random_state = 12)\n"
   ]
  },
  {
   "cell_type": "code",
   "execution_count": 24,
   "id": "08bd11a3",
   "metadata": {},
   "outputs": [],
   "source": [
    "#preparing test data\n",
    "\n",
    "trainX = encode_sequences(fra_tokenizer, fra_length, train[:,1])\n",
    "trainY = encode_sequences(eng_tokenizer, eng_length, train[:,0])\n",
    "\n",
    "#preparing validation data\n",
    "\n",
    "testX = encode_sequences(fra_tokenizer, fra_length, test[:,1])\n",
    "testY = encode_sequences(eng_tokenizer, eng_length, test[:,0])"
   ]
  },
  {
   "cell_type": "code",
   "execution_count": 26,
   "id": "6f166801",
   "metadata": {},
   "outputs": [
    {
     "name": "stdout",
     "output_type": "stream",
     "text": [
      "(72000, 8)\n",
      "(72000, 8)\n",
      "(18000, 8)\n",
      "(18000, 8)\n"
     ]
    }
   ],
   "source": [
    "#to get the shape of the training and testing arrays\n",
    "\n",
    "print(trainX.shape)\n",
    "print(trainY.shape)\n",
    "print(testX.shape)\n",
    "print(testY.shape)"
   ]
  },
  {
   "cell_type": "markdown",
   "id": "32537912",
   "metadata": {},
   "source": [
    "Define our Seq2Seq  model architecture"
   ]
  },
  {
   "cell_type": "code",
   "execution_count": 27,
   "id": "7f3ccb61",
   "metadata": {},
   "outputs": [],
   "source": [
    "#build NMT model\n",
    "\n",
    "def define_model(in_vocab,out_vocab,in_timesteps,out_timesteps,units):\n",
    "    model = Sequential()\n",
    "    model.add(Embedding(in_vocab, units, input_length=in_timesteps, mask_zero=True))\n",
    "    model.add(LSTM(units))\n",
    "    model.add(RepeatVector(out_timesteps))\n",
    "    model.add(LSTM(units, return_sequences=True))\n",
    "    model.add(Dense(out_vocab, activation ='softmax'))\n",
    "    return model\n",
    "\n"
   ]
  },
  {
   "cell_type": "code",
   "execution_count": 28,
   "id": "bad30794",
   "metadata": {},
   "outputs": [],
   "source": [
    "#we are using the RMSprop optimizer in this model as its usually a good choice when working with\n",
    "# recurrent nueral network.\n",
    "#model compilation\n",
    "\n",
    "model = define_model(fra_vocab_size, eng_vocab_size, fra_length, eng_length, 512)\n",
    "rms = optimizers.RMSprop(learning_rate=0.001)\n",
    "\n",
    "model.compile(optimizer=rms, loss='sparse_categorical_crossentropy')\n",
    "\n"
   ]
  },
  {
   "cell_type": "code",
   "execution_count": 29,
   "id": "efadbe8c",
   "metadata": {},
   "outputs": [
    {
     "name": "stdout",
     "output_type": "stream",
     "text": [
      "Epoch 1/10\n",
      "113/113 [==============================] - 158s 1s/step - loss: 3.5657 - val_loss: 3.2409\n",
      "Epoch 2/10\n",
      "113/113 [==============================] - 162s 1s/step - loss: 3.0246 - val_loss: 2.9683\n",
      "Epoch 3/10\n",
      "113/113 [==============================] - 161s 1s/step - loss: 2.7909 - val_loss: 2.7173\n",
      "Epoch 4/10\n",
      "113/113 [==============================] - 166s 1s/step - loss: 2.5461 - val_loss: 2.5018\n",
      "Epoch 5/10\n",
      "113/113 [==============================] - 162s 1s/step - loss: 2.3378 - val_loss: 2.3482\n",
      "Epoch 6/10\n",
      "113/113 [==============================] - 200s 2s/step - loss: 2.1488 - val_loss: 2.1953\n",
      "Epoch 7/10\n",
      "113/113 [==============================] - 210s 2s/step - loss: 1.9807 - val_loss: 2.0877\n",
      "Epoch 8/10\n",
      "113/113 [==============================] - 206s 2s/step - loss: 1.8310 - val_loss: 1.9765\n",
      "Epoch 9/10\n",
      "113/113 [==============================] - 206s 2s/step - loss: 1.6937 - val_loss: 1.8753\n",
      "Epoch 10/10\n",
      "113/113 [==============================] - 202s 2s/step - loss: 1.5657 - val_loss: 1.8242\n"
     ]
    }
   ],
   "source": [
    "#to train the model\n",
    "\n",
    "history = model.fit(trainX, trainY.reshape(trainY.shape[0],trainY.shape[1],1),epochs =10, batch_size=512, validation_split = 0.2)"
   ]
  },
  {
   "cell_type": "code",
   "execution_count": null,
   "id": "51d4d25d",
   "metadata": {},
   "outputs": [],
   "source": [
    "# preds = model.predict(testX.reshape((testX.shape[0],testX.shape[1])))\n",
    "\n",
    "#these predictions are sequence of integers.we need to convert these integers corresponding words\n",
    "#lets define a function"
   ]
  },
  {
   "cell_type": "code",
   "execution_count": 30,
   "id": "a04c795b",
   "metadata": {},
   "outputs": [
    {
     "name": "stdout",
     "output_type": "stream",
     "text": [
      "563/563 [==============================] - 33s 53ms/step\n"
     ]
    }
   ],
   "source": [
    "preds = model.predict(testX.reshape((testX.shape[0], testX.shape[1])))\n",
    "preds = numpy.argmax(preds, axis=-1)\n"
   ]
  },
  {
   "cell_type": "code",
   "execution_count": 31,
   "id": "f4e913b8",
   "metadata": {},
   "outputs": [
    {
     "name": "stdout",
     "output_type": "stream",
     "text": [
      "dict_keys(['loss', 'val_loss'])\n",
      "[3.5656752586364746, 3.0246031284332275, 2.7909328937530518, 2.5461442470550537, 2.33776593208313, 2.1487598419189453, 1.9807499647140503, 1.8310015201568604, 1.6937021017074585, 1.5656955242156982]\n",
      "[3.240880250930786, 2.968318223953247, 2.717270612716675, 2.501782178878784, 2.348247766494751, 2.195340871810913, 2.087742805480957, 1.9765031337738037, 1.8753365278244019, 1.824169635772705]\n"
     ]
    }
   ],
   "source": [
    "# Training the model and obtaining the history object\n",
    "\n",
    "# Accessing the history object\n",
    "print(history.history.keys())\n",
    "\n",
    "# Output the training and validation loss at each epoch\n",
    "print(history.history['loss'])\n",
    "print(history.history['val_loss'])\n",
    "\n"
   ]
  },
  {
   "cell_type": "code",
   "execution_count": 32,
   "id": "4ca931a0",
   "metadata": {},
   "outputs": [
    {
     "data": {
      "image/png": "[encoded data removed]",
      "text/plain": [
       "<Figure size 640x480 with 1 Axes>"
      ]
     },
     "metadata": {},
     "output_type": "display_data"
    }
   ],
   "source": [
    "# Plotting the training and validation loss curves\n",
    "plt.plot(history.history['loss'], label='Training Loss')\n",
    "plt.plot(history.history['val_loss'], label='Validation Loss')\n",
    "plt.xlabel('Epoch')\n",
    "plt.ylabel('Loss')\n",
    "plt.legend()\n",
    "plt.show()\n",
    "            "
   ]
  },
  {
   "cell_type": "code",
   "execution_count": 33,
   "id": "0f81b2d3",
   "metadata": {},
   "outputs": [
    {
     "data": {
      "text/plain": [
       "array([[  2, 451,  21, ...,   0,   0,   0],\n",
       "       [ 34, 138,  38, ...,   0,   0,   0],\n",
       "       [  4, 114, 291, ...,   0,   0,   0],\n",
       "       ...,\n",
       "       [  1,  36,   6, ...,   0,   0,   0],\n",
       "       [ 14, 109,  92, ...,   0,   0,   0],\n",
       "       [  1,  16,  37, ...,   0,   0,   0]], dtype=int64)"
      ]
     },
     "execution_count": 33,
     "metadata": {},
     "output_type": "execute_result"
    }
   ],
   "source": [
    "#to predict the sequences afer training and testin\n",
    "\n",
    "preds\n",
    "# preds = preds.astype(int)"
   ]
  },
  {
   "cell_type": "code",
   "execution_count": 34,
   "id": "82950b26",
   "metadata": {},
   "outputs": [],
   "source": [
    "# these prediction are sequences of integers. we need to convert these integers to their corresponding words\n",
    "\n",
    "def get_word(n, tokenizer):\n",
    "    for word, index in tokenizer.word_index.items():\n",
    "        if index == n:\n",
    "            return word\n",
    "    return None\n"
   ]
  },
  {
   "cell_type": "code",
   "execution_count": 35,
   "id": "506fc6dc",
   "metadata": {},
   "outputs": [],
   "source": [
    "# Converting the predictions into sentences (English);\n",
    "\n",
    "preds_text = []\n",
    "for i in preds:\n",
    "    temp = []  # Initialize the temp list for each sentence\n",
    "    for j in range(len(i)):\n",
    "        preds_text = []\n",
    "        t = get_word(i[j], eng_tokenizer)\n",
    "        if j > 0:\n",
    "            if (t == get_word(i[j-1], eng_tokenizer)) or (t == None):\n",
    "                temp.append('')\n",
    "            else:\n",
    "                temp.append(t)\n",
    "        else:\n",
    "            if( t == None):\n",
    "                temp.append('')\n",
    "            else:\n",
    "                temp.append(t)\n",
    "                \n",
    "    preds_text.append(' '.join(temp))\n"
   ]
  },
  {
   "cell_type": "code",
   "execution_count": 37,
   "id": "ddfac10f",
   "metadata": {},
   "outputs": [],
   "source": [
    "# preds_text = eng_tokenizer.sequences_to_texts(preds)\n"
   ]
  },
  {
   "cell_type": "code",
   "execution_count": 40,
   "id": "fb7e03b4",
   "metadata": {},
   "outputs": [],
   "source": [
    "pred_df = pd.DataFrame({'actual': test[:,0], 'predicted' : preds_text})"
   ]
  },
  {
   "cell_type": "code",
   "execution_count": 41,
   "id": "22a54362",
   "metadata": {},
   "outputs": [
    {
     "data": {
      "text/html": [
       "<div>\n",
       "<style scoped>\n",
       "    .dataframe tbody tr th:only-of-type {\n",
       "        vertical-align: middle;\n",
       "    }\n",
       "\n",
       "    .dataframe tbody tr th {\n",
       "        vertical-align: top;\n",
       "    }\n",
       "\n",
       "    .dataframe thead th {\n",
       "        text-align: right;\n",
       "    }\n",
       "</style>\n",
       "<table border=\"1\" class=\"dataframe\">\n",
       "  <thead>\n",
       "    <tr style=\"text-align: right;\">\n",
       "      <th></th>\n",
       "      <th>actual</th>\n",
       "      <th>predicted</th>\n",
       "    </tr>\n",
       "  </thead>\n",
       "  <tbody>\n",
       "    <tr>\n",
       "      <th>12001</th>\n",
       "      <td>can i have some more tea</td>\n",
       "      <td>can i use the</td>\n",
       "    </tr>\n",
       "    <tr>\n",
       "      <th>1529</th>\n",
       "      <td>all of us make mistakes</td>\n",
       "      <td>we all all</td>\n",
       "    </tr>\n",
       "    <tr>\n",
       "      <th>3661</th>\n",
       "      <td>i cant carry a tune</td>\n",
       "      <td>i cant know to</td>\n",
       "    </tr>\n",
       "    <tr>\n",
       "      <th>15449</th>\n",
       "      <td>were not so confident</td>\n",
       "      <td>were not not</td>\n",
       "    </tr>\n",
       "    <tr>\n",
       "      <th>2166</th>\n",
       "      <td>my boss is very strict</td>\n",
       "      <td>my friend is very</td>\n",
       "    </tr>\n",
       "    <tr>\n",
       "      <th>9305</th>\n",
       "      <td>i heard a mans voice</td>\n",
       "      <td>i heard a a</td>\n",
       "    </tr>\n",
       "    <tr>\n",
       "      <th>196</th>\n",
       "      <td>are you enjoying this</td>\n",
       "      <td>this it</td>\n",
       "    </tr>\n",
       "    <tr>\n",
       "      <th>8072</th>\n",
       "      <td>bring me the flute</td>\n",
       "      <td>give me the phone</td>\n",
       "    </tr>\n",
       "    <tr>\n",
       "      <th>15660</th>\n",
       "      <td>do you have a corkscrew</td>\n",
       "      <td>do you have a</td>\n",
       "    </tr>\n",
       "    <tr>\n",
       "      <th>15729</th>\n",
       "      <td>i thought theyd heard us</td>\n",
       "      <td>i thought you were</td>\n",
       "    </tr>\n",
       "    <tr>\n",
       "      <th>12312</th>\n",
       "      <td>i saw a dog</td>\n",
       "      <td>i saw a new</td>\n",
       "    </tr>\n",
       "    <tr>\n",
       "      <th>10705</th>\n",
       "      <td>buy any dress you like</td>\n",
       "      <td>put it your your</td>\n",
       "    </tr>\n",
       "    <tr>\n",
       "      <th>10315</th>\n",
       "      <td>i miss you very much</td>\n",
       "      <td>i miss you a a</td>\n",
       "    </tr>\n",
       "    <tr>\n",
       "      <th>9382</th>\n",
       "      <td>do you think so</td>\n",
       "      <td>do you know the</td>\n",
       "    </tr>\n",
       "    <tr>\n",
       "      <th>7694</th>\n",
       "      <td>im doing all i can</td>\n",
       "      <td>i do what i i</td>\n",
       "    </tr>\n",
       "  </tbody>\n",
       "</table>\n",
       "</div>"
      ],
      "text/plain": [
       "                         actual           predicted\n",
       "12001  can i have some more tea       can i use the\n",
       "1529    all of us make mistakes          we all all\n",
       "3661        i cant carry a tune      i cant know to\n",
       "15449     were not so confident        were not not\n",
       "2166     my boss is very strict   my friend is very\n",
       "9305       i heard a mans voice         i heard a a\n",
       "196       are you enjoying this             this it\n",
       "8072         bring me the flute   give me the phone\n",
       "15660   do you have a corkscrew       do you have a\n",
       "15729  i thought theyd heard us  i thought you were\n",
       "12312               i saw a dog         i saw a new\n",
       "10705    buy any dress you like    put it your your\n",
       "10315      i miss you very much      i miss you a a\n",
       "9382            do you think so     do you know the\n",
       "7694         im doing all i can       i do what i i"
      ]
     },
     "execution_count": 41,
     "metadata": {},
     "output_type": "execute_result"
    }
   ],
   "source": [
    "#print 25 rows randomly\n",
    "pred_df.sample(15)"
   ]
  },
  {
   "cell_type": "code",
   "execution_count": null,
   "id": "fa103427",
   "metadata": {},
   "outputs": [],
   "source": []
  }
 ],
 "metadata": {
  "kernelspec": {
   "display_name": "Python 3 (ipykernel)",
   "language": "python",
   "name": "python3"
  },
  "language_info": {
   "codemirror_mode": {
    "name": "ipython",
    "version": 3
   },
   "file_extension": ".py",
   "mimetype": "text/x-python",
   "name": "python",
   "nbconvert_exporter": "python",
   "pygments_lexer": "ipython3",
   "version": "3.9.17"
  }
 },
 "nbformat": 4,
 "nbformat_minor": 5
}
